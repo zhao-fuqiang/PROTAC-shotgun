{
 "cells": [
  {
   "cell_type": "code",
   "execution_count": 1,
   "metadata": {
    "metadata": {}
   },
   "outputs": [
    {
     "name": "stderr",
     "output_type": "stream",
     "text": [
      "/home/user/anaconda3/envs/Xponge/lib/python3.12/site-packages/tqdm/auto.py:21: TqdmWarning: IProgress not found. Please update jupyter and ipywidgets. See https://ipywidgets.readthedocs.io/en/stable/user_install.html\n",
      "  from .autonotebook import tqdm as notebook_tqdm\n",
      "/home/user/anaconda3/envs/Xponge/lib/python3.12/site-packages/Bio/Application/__init__.py:39: BiopythonDeprecationWarning: The Bio.Application modules and modules relying on it have been deprecated.\n",
      "\n",
      "Due to the on going maintenance burden of keeping command line application\n",
      "wrappers up to date, we have decided to deprecate and eventually remove these\n",
      "modules.\n",
      "\n",
      "We instead now recommend building your command line and invoking it directly\n",
      "with the subprocess module.\n",
      "  warnings.warn(\n"
     ]
    }
   ],
   "source": [
    "# https://userguide.mdanalysis.org/stable/examples/analysis/trajectory_similarity/clustering_ensemble_similarity.html\n",
    "import numpy as np\n",
    "import matplotlib.pyplot as plt\n",
    "\n",
    "import MDAnalysis as mda\n",
    "from MDAnalysis.analysis import encore\n",
    "from MDAnalysis.analysis.encore.clustering import ClusteringMethod as clm\n",
    "from MDAnalysis.analysis import align\n",
    "from MDAnalysis.analysis import distances\n",
    "\n",
    "from scipy.spatial.transform import Rotation\n",
    "\n",
    "from sklearn.linear_model import LinearRegression\n",
    "\n",
    "from rdkit import Chem\n",
    "from rdkit.Chem import AllChem\n",
    "from rdkit.Chem import rdDetermineBonds\n",
    "\n",
    "import os\n",
    "import glob\n",
    "\n",
    "try:\n",
    "    from openbabel import openbabel as ob\n",
    "    from meeko import obutils # fails if openbabel not available\n",
    "    from meeko import PDBQTMolecule\n",
    "    from meeko import RDKitMolCreate\n",
    "except:\n",
    "    _has_openbabel = False\n",
    "else:\n",
    "    _has_openbabel = True\n",
    "\n"
   ]
  },
  {
   "cell_type": "code",
   "execution_count": null,
   "metadata": {},
   "outputs": [],
   "source": [
    "\n"
   ]
  },
  {
   "cell_type": "code",
   "execution_count": null,
   "metadata": {},
   "outputs": [],
   "source": [
    "\n",
    "\n",
    "fig=plt.figure(num=1,figsize=(20,4))\n",
    "#plt.scatter(timeseries[:,0], dist_list[:,0], s = 20, c = 'red')\n",
    "plt.scatter(timeseries[:,0], dist_list[:,1], s = 20, c = 'green')\n",
    "plt.scatter(timeseries[:,0], dist_list[:,2], s = 20, c = 'blue')\n",
    "plt.scatter(timeseries[:,0], dist_list[:,3], s = 20, c = 'purple')\n",
    "#plt.scatter(timeseries[:,0], dist_list[:,4], s = 20, c = 'black')\n",
    "#plt.scatter(timeseries[:,0], count_close_contact, s = 20, c = 'black')\n",
    "#plt.yscale('log')\n",
    "plt.show()\n"
   ]
  },
  {
   "cell_type": "code",
   "execution_count": null,
   "metadata": {},
   "outputs": [],
   "source": [
    "\n",
    "fig=plt.figure(num=1,figsize=(20,4))\n",
    "#plt.scatter(timeseries_picked[:,0], dist_list_picked[:,0], s = 20, c = 'red')\n",
    "plt.scatter(timeseries_picked[:,0], dist_list_picked[:,1], s = 20, c = 'green')\n",
    "plt.scatter(timeseries_picked[:,0], dist_list_picked[:,2], s = 20, c = 'blue')\n",
    "plt.scatter(timeseries_picked[:,0], dist_list_picked[:,3], s = 20, c = 'purple')\n",
    "#plt.scatter(timeseries_picked[:,0], dist_list_picked[:,4], s = 20, c = 'black')\n",
    "#plt.scatter(timeseries_picked[:,0], count_close_contact_picked, s = 20, c = 'black')\n",
    "#plt.yscale('log')\n",
    "plt.show()\n"
   ]
  },
  {
   "cell_type": "code",
   "execution_count": null,
   "metadata": {},
   "outputs": [],
   "source": [
    "\n",
    "colume_id = 1\n",
    "\n",
    "fig=plt.figure(num=1,figsize=(20,4))\n",
    "sc = plt.scatter(timeseries[:,0], timeseries[:,colume_id], s = 20, c = dist_list[:,1])\n",
    "plt.colorbar(sc)\n",
    "plt.show()\n",
    "\n",
    "#fig.savefig('test_plot.png', dpi=300)\n"
   ]
  },
  {
   "cell_type": "code",
   "execution_count": null,
   "metadata": {},
   "outputs": [],
   "source": [
    "\n",
    "colume_id = 1\n",
    "\n",
    "fig=plt.figure(num=1,figsize=(20,4))\n",
    "sc = plt.scatter(timeseries_picked[:,0], timeseries_picked[:,colume_id], s = 20, c = dist_list_picked[:,1])\n",
    "plt.colorbar(sc)\n",
    "plt.show()\n"
   ]
  },
  {
   "cell_type": "code",
   "execution_count": null,
   "metadata": {},
   "outputs": [],
   "source": [
    "\n",
    "time_end = 1000000\n",
    "\n",
    "fig=plt.figure(num=1,figsize=(5,5))\n",
    "#sc = plt.scatter(timeseries[:time_end,2], timeseries[:time_end,3], s=10, c=timeseries[:time_end,1], alpha=0.8)\n",
    "sc = plt.scatter(timeseries[:time_end,2], timeseries[:time_end,3], s=1, c=dist_list[:time_end,1], alpha=0.8)\n",
    "plt.colorbar(sc)\n",
    "plt.xlim(-190, 190)\n",
    "plt.ylim(0, 180)\n",
    "plt.show()\n"
   ]
  },
  {
   "cell_type": "code",
   "execution_count": null,
   "metadata": {},
   "outputs": [],
   "source": [
    "\n",
    "time_end = 1000000\n",
    "\n",
    "fig=plt.figure(num=1,figsize=(5,5))\n",
    "#sc = plt.scatter(timeseries_picked[:time_end,2], timeseries_picked[:time_end,3], s=10, c=timeseries_picked[:time_end,1], alpha=0.8)\n",
    "sc = plt.scatter(timeseries_picked[:time_end,2], timeseries_picked[:time_end,3], s=1, c=dist_list_picked[:time_end,1], alpha=0.8)\n",
    "plt.colorbar(sc)\n",
    "plt.xlim(-190, 190)\n",
    "plt.ylim(0, 180)\n",
    "plt.show()\n"
   ]
  }
 ],
 "metadata": {
  "kernelspec": {
   "display_name": "Xponge",
   "language": "python",
   "name": "python3"
  },
  "language_info": {
   "codemirror_mode": {
    "name": "ipython",
    "version": 3
   },
   "file_extension": ".py",
   "mimetype": "text/x-python",
   "name": "python",
   "nbconvert_exporter": "python",
   "pygments_lexer": "ipython3",
   "version": "3.12.7"
  }
 },
 "nbformat": 4,
 "nbformat_minor": 2
}
