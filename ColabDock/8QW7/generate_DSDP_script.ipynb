{
 "cells": [
  {
   "cell_type": "code",
   "execution_count": 1,
   "metadata": {
    "metadata": {}
   },
   "outputs": [],
   "source": [
    "\n",
    "import os\n",
    "import glob\n"
   ]
  },
  {
   "cell_type": "code",
   "execution_count": 2,
   "metadata": {},
   "outputs": [
    {
     "name": "stdout",
     "output_type": "stream",
     "text": [
      "['./box_info_range(6780, 7910)', './box_info_range(19210, 20340)', './box_info_range(5650, 6780)', './box_info_range(32770, 33900)', './box_info_range(23730, 24860)', './box_info_range(24860, 25990)', './box_info_range(15820, 16950)', './box_info_range(9040, 10170)', './box_info_range(21470, 22600)', './box_info_range(20340, 21470)', './box_info_range(12430, 13560)', './box_info_range(27120, 28250)', './box_info_range(7910, 9040)', './box_info_range(22600, 23730)', './box_info_range(1130, 2260)', './box_info_range(33900, 35030)', './box_info_range(0, 1130)', './box_info_range(3390, 4520)', './box_info_range(36160, 37290)', './box_info_range(13560, 14690)', './box_info_range(4520, 5650)', './box_info_range(31640, 32770)', './box_info_range(38420, 39580)', './box_info_range(16950, 18080)', './box_info_range(37290, 38420)', './box_info_range(18080, 19210)', './box_info_range(10170, 11300)', './box_info_range(25990, 27120)', './box_info_range(30510, 31640)', './box_info_range(35030, 36160)', './box_info_range(14690, 15820)', './box_info_range(11300, 12430)', './box_info_range(28250, 29380)', './box_info_range(2260, 3390)', './box_info_range(29380, 30510)']\n",
      "35\n",
      "3110\n"
     ]
    }
   ],
   "source": [
    "\n",
    "box_info_file_list = []\n",
    "for filename in glob.glob('./' + 'box_info_range*'):\n",
    "    box_info_file_list.append(filename)\n",
    "\n",
    "print(box_info_file_list)\n",
    "print(len(box_info_file_list))\n",
    "\n",
    "box_info_list = []\n",
    "for box_info_file in box_info_file_list:\n",
    "    with open(box_info_file, 'r') as bif:\n",
    "        box_info_lines = bif.readlines()\n",
    "        for line in box_info_lines:\n",
    "            line = line.strip().split('][')\n",
    "            box_info = line[0].split('[')\n",
    "            box_info2 = line[1][0:-1]\n",
    "            box_info.append(box_info2)\n",
    "            #print(box_info)\n",
    "\n",
    "            box_info_list.append(box_info)\n",
    "\n",
    "print(len(box_info_list))\n",
    "\n"
   ]
  },
  {
   "cell_type": "code",
   "execution_count": 4,
   "metadata": {},
   "outputs": [],
   "source": [
    "\n",
    "receptor_path = 'alignment_for_DSDP'\n",
    "ligand_path = 'PROTACs_for_DSDP'\n",
    "output_path = 'output_from_DSDP'\n",
    "\n",
    "i = 0\n",
    "\n",
    "for box_info in box_info_list:\n",
    "    i += 1\n",
    "    #print(box_info[0])\n",
    "    #print(box_info[1])\n",
    "    #print(box_info[2])\n",
    "    DSDP_cmd = 'DSDP_redock_PROTAC ' + \\\n",
    "                '--ligand ' +  './' + ligand_path + '/PROTAC_full_' + str(box_info[0]) + '.pdbqt ' + \\\n",
    "                '--protein ' + './' + receptor_path + '/Colab_aligned_' + str(box_info[0]) + '.pdbqt ' + \\\n",
    "                '--box_min ' + str(box_info[1]) + ' ' + \\\n",
    "                '--box_max ' + str(box_info[2]) + ' ' + \\\n",
    "                '--exhaustiveness 96 ' + \\\n",
    "                '--search_depth 5 ' + \\\n",
    "                '--top_n 10 ' + \\\n",
    "                '--out ' + './' + output_path + '/POI_and_E3_' + str(box_info[0]) + '_out.pdbqt ' + \\\n",
    "                '--log ' + './' + output_path + '/POI_and_E3_' + str(box_info[0]) + '_out.log ' + \\\n",
    "                '\\n'\n",
    "    #print(DSDP_cmd, file = open('batch_run_DSDP_part_' + str(batch_i) + '.sh', 'a+'))\n",
    "    print(DSDP_cmd, file = open('batch_run_DSDP.sh', 'a+'))\n",
    "\n"
   ]
  }
 ],
 "metadata": {
  "kernelspec": {
   "display_name": "Xponge",
   "language": "python",
   "name": "python3"
  },
  "language_info": {
   "codemirror_mode": {
    "name": "ipython",
    "version": 3
   },
   "file_extension": ".py",
   "mimetype": "text/x-python",
   "name": "python",
   "nbconvert_exporter": "python",
   "pygments_lexer": "ipython3",
   "version": "3.12.7"
  }
 },
 "nbformat": 4,
 "nbformat_minor": 2
}
